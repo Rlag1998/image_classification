{
 "cells": [
  {
   "cell_type": "markdown",
   "id": "49a82c48",
   "metadata": {},
   "source": [
    "## Initial Exploration"
   ]
  },
  {
   "cell_type": "code",
   "execution_count": 1,
   "id": "7e00ae10",
   "metadata": {
    "ExecuteTime": {
     "end_time": "2023-01-27T19:56:27.883639Z",
     "start_time": "2023-01-27T19:56:14.573082Z"
    }
   },
   "outputs": [],
   "source": [
    "import numpy as np\n",
    "import pandas as pd\n",
    "import seaborn as sns\n",
    "from random import shuffle\n",
    "import cv2\n",
    "import os\n",
    "import tensorflow as tf"
   ]
  },
  {
   "cell_type": "code",
   "execution_count": 2,
   "id": "d1939382",
   "metadata": {
    "ExecuteTime": {
     "end_time": "2023-01-27T14:58:34.239894Z",
     "start_time": "2023-01-27T14:58:32.871935Z"
    }
   },
   "outputs": [
    {
     "data": {
      "text/html": [
       "<div>\n",
       "<style scoped>\n",
       "    .dataframe tbody tr th:only-of-type {\n",
       "        vertical-align: middle;\n",
       "    }\n",
       "\n",
       "    .dataframe tbody tr th {\n",
       "        vertical-align: top;\n",
       "    }\n",
       "\n",
       "    .dataframe thead th {\n",
       "        text-align: right;\n",
       "    }\n",
       "</style>\n",
       "<table border=\"1\" class=\"dataframe\">\n",
       "  <thead>\n",
       "    <tr style=\"text-align: right;\">\n",
       "      <th></th>\n",
       "      <th>asset_id</th>\n",
       "      <th>T1_smooth</th>\n",
       "      <th>T1_features_disk</th>\n",
       "      <th>T1_star_artifact</th>\n",
       "      <th>T2_edgeon_yes</th>\n",
       "      <th>T2_edgeon_no</th>\n",
       "      <th>T3_bar</th>\n",
       "      <th>T3_no_bar</th>\n",
       "      <th>T4_spiral</th>\n",
       "      <th>T4_no_spiral</th>\n",
       "      <th>...</th>\n",
       "      <th>T9_bulge_no</th>\n",
       "      <th>T10_arms_tight</th>\n",
       "      <th>T10_arms_medium</th>\n",
       "      <th>T10_arms_loose</th>\n",
       "      <th>T11_arms_1</th>\n",
       "      <th>T11_arms_2</th>\n",
       "      <th>T11_arms_3</th>\n",
       "      <th>T11_arms_4</th>\n",
       "      <th>T11_arms_4+</th>\n",
       "      <th>T11_arms_no</th>\n",
       "    </tr>\n",
       "  </thead>\n",
       "  <tbody>\n",
       "    <tr>\n",
       "      <th>0</th>\n",
       "      <td>3</td>\n",
       "      <td>0.216</td>\n",
       "      <td>0.736</td>\n",
       "      <td>0.000</td>\n",
       "      <td>0.000000</td>\n",
       "      <td>1.000000</td>\n",
       "      <td>0.376434</td>\n",
       "      <td>0.541040</td>\n",
       "      <td>0.751993</td>\n",
       "      <td>3.489199e-02</td>\n",
       "      <td>...</td>\n",
       "      <td>0.00000</td>\n",
       "      <td>0.000000</td>\n",
       "      <td>0.000000</td>\n",
       "      <td>1.000000</td>\n",
       "      <td>0.000000</td>\n",
       "      <td>0.000000</td>\n",
       "      <td>0.00000</td>\n",
       "      <td>0.00000</td>\n",
       "      <td>0.000000</td>\n",
       "      <td>1.000000</td>\n",
       "    </tr>\n",
       "    <tr>\n",
       "      <th>1</th>\n",
       "      <td>4</td>\n",
       "      <td>0.216</td>\n",
       "      <td>0.736</td>\n",
       "      <td>0.000</td>\n",
       "      <td>0.000000</td>\n",
       "      <td>1.000000</td>\n",
       "      <td>0.376434</td>\n",
       "      <td>0.541040</td>\n",
       "      <td>0.751993</td>\n",
       "      <td>3.489199e-02</td>\n",
       "      <td>...</td>\n",
       "      <td>0.00000</td>\n",
       "      <td>0.000000</td>\n",
       "      <td>0.000000</td>\n",
       "      <td>1.000000</td>\n",
       "      <td>0.000000</td>\n",
       "      <td>0.000000</td>\n",
       "      <td>0.00000</td>\n",
       "      <td>0.00000</td>\n",
       "      <td>0.000000</td>\n",
       "      <td>1.000000</td>\n",
       "    </tr>\n",
       "    <tr>\n",
       "      <th>2</th>\n",
       "      <td>5</td>\n",
       "      <td>0.773</td>\n",
       "      <td>0.029</td>\n",
       "      <td>0.114</td>\n",
       "      <td>0.000000</td>\n",
       "      <td>1.000000</td>\n",
       "      <td>0.000000</td>\n",
       "      <td>1.000000</td>\n",
       "      <td>0.000000</td>\n",
       "      <td>1.000000e+00</td>\n",
       "      <td>...</td>\n",
       "      <td>0.00000</td>\n",
       "      <td>0.000000</td>\n",
       "      <td>0.000000</td>\n",
       "      <td>0.000000</td>\n",
       "      <td>0.000000</td>\n",
       "      <td>0.000000</td>\n",
       "      <td>0.00000</td>\n",
       "      <td>0.00000</td>\n",
       "      <td>0.000000</td>\n",
       "      <td>0.000000</td>\n",
       "    </tr>\n",
       "    <tr>\n",
       "      <th>3</th>\n",
       "      <td>6</td>\n",
       "      <td>0.152</td>\n",
       "      <td>0.639</td>\n",
       "      <td>0.009</td>\n",
       "      <td>0.000000</td>\n",
       "      <td>1.000000</td>\n",
       "      <td>0.000000</td>\n",
       "      <td>1.000000</td>\n",
       "      <td>0.692553</td>\n",
       "      <td>2.628765e-01</td>\n",
       "      <td>...</td>\n",
       "      <td>0.00000</td>\n",
       "      <td>1.000000</td>\n",
       "      <td>0.000000</td>\n",
       "      <td>0.000000</td>\n",
       "      <td>1.000000</td>\n",
       "      <td>0.000000</td>\n",
       "      <td>0.00000</td>\n",
       "      <td>0.00000</td>\n",
       "      <td>0.000000</td>\n",
       "      <td>0.000000</td>\n",
       "    </tr>\n",
       "    <tr>\n",
       "      <th>4</th>\n",
       "      <td>7</td>\n",
       "      <td>0.152</td>\n",
       "      <td>0.639</td>\n",
       "      <td>0.009</td>\n",
       "      <td>0.000000</td>\n",
       "      <td>1.000000</td>\n",
       "      <td>0.000000</td>\n",
       "      <td>1.000000</td>\n",
       "      <td>0.692553</td>\n",
       "      <td>2.628765e-01</td>\n",
       "      <td>...</td>\n",
       "      <td>0.00000</td>\n",
       "      <td>1.000000</td>\n",
       "      <td>0.000000</td>\n",
       "      <td>0.000000</td>\n",
       "      <td>1.000000</td>\n",
       "      <td>0.000000</td>\n",
       "      <td>0.00000</td>\n",
       "      <td>0.00000</td>\n",
       "      <td>0.000000</td>\n",
       "      <td>0.000000</td>\n",
       "    </tr>\n",
       "    <tr>\n",
       "      <th>...</th>\n",
       "      <td>...</td>\n",
       "      <td>...</td>\n",
       "      <td>...</td>\n",
       "      <td>...</td>\n",
       "      <td>...</td>\n",
       "      <td>...</td>\n",
       "      <td>...</td>\n",
       "      <td>...</td>\n",
       "      <td>...</td>\n",
       "      <td>...</td>\n",
       "      <td>...</td>\n",
       "      <td>...</td>\n",
       "      <td>...</td>\n",
       "      <td>...</td>\n",
       "      <td>...</td>\n",
       "      <td>...</td>\n",
       "      <td>...</td>\n",
       "      <td>...</td>\n",
       "      <td>...</td>\n",
       "      <td>...</td>\n",
       "      <td>...</td>\n",
       "    </tr>\n",
       "    <tr>\n",
       "      <th>267062</th>\n",
       "      <td>295294</td>\n",
       "      <td>0.000</td>\n",
       "      <td>1.000</td>\n",
       "      <td>0.000</td>\n",
       "      <td>0.000000</td>\n",
       "      <td>1.000000</td>\n",
       "      <td>0.912724</td>\n",
       "      <td>0.049065</td>\n",
       "      <td>1.000000</td>\n",
       "      <td>0.000000e+00</td>\n",
       "      <td>...</td>\n",
       "      <td>0.00000</td>\n",
       "      <td>0.395750</td>\n",
       "      <td>0.516223</td>\n",
       "      <td>0.080662</td>\n",
       "      <td>0.000000</td>\n",
       "      <td>0.068418</td>\n",
       "      <td>0.05868</td>\n",
       "      <td>0.50517</td>\n",
       "      <td>0.419035</td>\n",
       "      <td>0.029496</td>\n",
       "    </tr>\n",
       "    <tr>\n",
       "      <th>267063</th>\n",
       "      <td>295295</td>\n",
       "      <td>0.800</td>\n",
       "      <td>0.146</td>\n",
       "      <td>0.073</td>\n",
       "      <td>0.126668</td>\n",
       "      <td>0.836558</td>\n",
       "      <td>0.000000</td>\n",
       "      <td>1.000000</td>\n",
       "      <td>0.993507</td>\n",
       "      <td>2.460000e-27</td>\n",
       "      <td>...</td>\n",
       "      <td>0.00000</td>\n",
       "      <td>0.000000</td>\n",
       "      <td>1.000000</td>\n",
       "      <td>0.000000</td>\n",
       "      <td>0.000000</td>\n",
       "      <td>0.000000</td>\n",
       "      <td>0.00000</td>\n",
       "      <td>0.00000</td>\n",
       "      <td>0.000000</td>\n",
       "      <td>1.000000</td>\n",
       "    </tr>\n",
       "    <tr>\n",
       "      <th>267064</th>\n",
       "      <td>295296</td>\n",
       "      <td>0.800</td>\n",
       "      <td>0.146</td>\n",
       "      <td>0.073</td>\n",
       "      <td>0.126668</td>\n",
       "      <td>0.836558</td>\n",
       "      <td>0.000000</td>\n",
       "      <td>1.000000</td>\n",
       "      <td>0.993507</td>\n",
       "      <td>2.460000e-27</td>\n",
       "      <td>...</td>\n",
       "      <td>0.00000</td>\n",
       "      <td>0.000000</td>\n",
       "      <td>1.000000</td>\n",
       "      <td>0.000000</td>\n",
       "      <td>0.000000</td>\n",
       "      <td>0.000000</td>\n",
       "      <td>0.00000</td>\n",
       "      <td>0.00000</td>\n",
       "      <td>0.000000</td>\n",
       "      <td>1.000000</td>\n",
       "    </tr>\n",
       "    <tr>\n",
       "      <th>267065</th>\n",
       "      <td>295304</td>\n",
       "      <td>0.089</td>\n",
       "      <td>0.892</td>\n",
       "      <td>0.010</td>\n",
       "      <td>0.343208</td>\n",
       "      <td>0.668841</td>\n",
       "      <td>0.228637</td>\n",
       "      <td>0.750691</td>\n",
       "      <td>0.982358</td>\n",
       "      <td>6.400000e-06</td>\n",
       "      <td>...</td>\n",
       "      <td>0.58578</td>\n",
       "      <td>0.313458</td>\n",
       "      <td>0.266263</td>\n",
       "      <td>0.361677</td>\n",
       "      <td>0.075168</td>\n",
       "      <td>0.115436</td>\n",
       "      <td>0.00000</td>\n",
       "      <td>0.00000</td>\n",
       "      <td>0.000000</td>\n",
       "      <td>0.692101</td>\n",
       "    </tr>\n",
       "    <tr>\n",
       "      <th>267066</th>\n",
       "      <td>295305</td>\n",
       "      <td>0.089</td>\n",
       "      <td>0.892</td>\n",
       "      <td>0.010</td>\n",
       "      <td>0.343208</td>\n",
       "      <td>0.668841</td>\n",
       "      <td>0.228637</td>\n",
       "      <td>0.750691</td>\n",
       "      <td>0.982358</td>\n",
       "      <td>6.400000e-06</td>\n",
       "      <td>...</td>\n",
       "      <td>0.58578</td>\n",
       "      <td>0.313458</td>\n",
       "      <td>0.266263</td>\n",
       "      <td>0.361677</td>\n",
       "      <td>0.075168</td>\n",
       "      <td>0.115436</td>\n",
       "      <td>0.00000</td>\n",
       "      <td>0.00000</td>\n",
       "      <td>0.000000</td>\n",
       "      <td>0.692101</td>\n",
       "    </tr>\n",
       "  </tbody>\n",
       "</table>\n",
       "<p>267067 rows × 38 columns</p>\n",
       "</div>"
      ],
      "text/plain": [
       "        asset_id  T1_smooth  T1_features_disk  T1_star_artifact  \\\n",
       "0              3      0.216             0.736             0.000   \n",
       "1              4      0.216             0.736             0.000   \n",
       "2              5      0.773             0.029             0.114   \n",
       "3              6      0.152             0.639             0.009   \n",
       "4              7      0.152             0.639             0.009   \n",
       "...          ...        ...               ...               ...   \n",
       "267062    295294      0.000             1.000             0.000   \n",
       "267063    295295      0.800             0.146             0.073   \n",
       "267064    295296      0.800             0.146             0.073   \n",
       "267065    295304      0.089             0.892             0.010   \n",
       "267066    295305      0.089             0.892             0.010   \n",
       "\n",
       "        T2_edgeon_yes  T2_edgeon_no    T3_bar  T3_no_bar  T4_spiral  \\\n",
       "0            0.000000      1.000000  0.376434   0.541040   0.751993   \n",
       "1            0.000000      1.000000  0.376434   0.541040   0.751993   \n",
       "2            0.000000      1.000000  0.000000   1.000000   0.000000   \n",
       "3            0.000000      1.000000  0.000000   1.000000   0.692553   \n",
       "4            0.000000      1.000000  0.000000   1.000000   0.692553   \n",
       "...               ...           ...       ...        ...        ...   \n",
       "267062       0.000000      1.000000  0.912724   0.049065   1.000000   \n",
       "267063       0.126668      0.836558  0.000000   1.000000   0.993507   \n",
       "267064       0.126668      0.836558  0.000000   1.000000   0.993507   \n",
       "267065       0.343208      0.668841  0.228637   0.750691   0.982358   \n",
       "267066       0.343208      0.668841  0.228637   0.750691   0.982358   \n",
       "\n",
       "        T4_no_spiral  ...  T9_bulge_no  T10_arms_tight  T10_arms_medium  \\\n",
       "0       3.489199e-02  ...      0.00000        0.000000         0.000000   \n",
       "1       3.489199e-02  ...      0.00000        0.000000         0.000000   \n",
       "2       1.000000e+00  ...      0.00000        0.000000         0.000000   \n",
       "3       2.628765e-01  ...      0.00000        1.000000         0.000000   \n",
       "4       2.628765e-01  ...      0.00000        1.000000         0.000000   \n",
       "...              ...  ...          ...             ...              ...   \n",
       "267062  0.000000e+00  ...      0.00000        0.395750         0.516223   \n",
       "267063  2.460000e-27  ...      0.00000        0.000000         1.000000   \n",
       "267064  2.460000e-27  ...      0.00000        0.000000         1.000000   \n",
       "267065  6.400000e-06  ...      0.58578        0.313458         0.266263   \n",
       "267066  6.400000e-06  ...      0.58578        0.313458         0.266263   \n",
       "\n",
       "        T10_arms_loose  T11_arms_1  T11_arms_2  T11_arms_3  T11_arms_4  \\\n",
       "0             1.000000    0.000000    0.000000     0.00000     0.00000   \n",
       "1             1.000000    0.000000    0.000000     0.00000     0.00000   \n",
       "2             0.000000    0.000000    0.000000     0.00000     0.00000   \n",
       "3             0.000000    1.000000    0.000000     0.00000     0.00000   \n",
       "4             0.000000    1.000000    0.000000     0.00000     0.00000   \n",
       "...                ...         ...         ...         ...         ...   \n",
       "267062        0.080662    0.000000    0.068418     0.05868     0.50517   \n",
       "267063        0.000000    0.000000    0.000000     0.00000     0.00000   \n",
       "267064        0.000000    0.000000    0.000000     0.00000     0.00000   \n",
       "267065        0.361677    0.075168    0.115436     0.00000     0.00000   \n",
       "267066        0.361677    0.075168    0.115436     0.00000     0.00000   \n",
       "\n",
       "        T11_arms_4+  T11_arms_no  \n",
       "0          0.000000     1.000000  \n",
       "1          0.000000     1.000000  \n",
       "2          0.000000     0.000000  \n",
       "3          0.000000     0.000000  \n",
       "4          0.000000     0.000000  \n",
       "...             ...          ...  \n",
       "267062     0.419035     0.029496  \n",
       "267063     0.000000     1.000000  \n",
       "267064     0.000000     1.000000  \n",
       "267065     0.000000     0.692101  \n",
       "267066     0.000000     0.692101  \n",
       "\n",
       "[267067 rows x 38 columns]"
      ]
     },
     "execution_count": 2,
     "metadata": {},
     "output_type": "execute_result"
    }
   ],
   "source": [
    "df = pd.read_csv('Training_labels.csv')\n",
    "df"
   ]
  },
  {
   "cell_type": "code",
   "execution_count": 3,
   "id": "96e65282",
   "metadata": {
    "ExecuteTime": {
     "end_time": "2023-01-27T14:58:36.442299Z",
     "start_time": "2023-01-27T14:58:36.423524Z"
    },
    "collapsed": true
   },
   "outputs": [
    {
     "data": {
      "text/plain": [
       "asset_id                 int64\n",
       "T1_smooth              float64\n",
       "T1_features_disk       float64\n",
       "T1_star_artifact       float64\n",
       "T2_edgeon_yes          float64\n",
       "T2_edgeon_no           float64\n",
       "T3_bar                 float64\n",
       "T3_no_bar              float64\n",
       "T4_spiral              float64\n",
       "T4_no_spiral           float64\n",
       "T5_no_bulge            float64\n",
       "T5_noticeable_bulge    float64\n",
       "T5_obvious_bulge       float64\n",
       "T5_dominant_bulge      float64\n",
       "T6_odd_yes             float64\n",
       "T6_odd_no              float64\n",
       "T7_round               float64\n",
       "T7_inbetween           float64\n",
       "T7_cigar               float64\n",
       "T8_odd_ring            float64\n",
       "T8_odd_lens_arc        float64\n",
       "T8_odd_disturbed       float64\n",
       "T8_odd_irregular       float64\n",
       "T8_odd_other           float64\n",
       "T8_odd_merger          float64\n",
       "T8_odd_dustlane        float64\n",
       "T9_bulge_round         float64\n",
       "T9_bulge_boxy          float64\n",
       "T9_bulge_no            float64\n",
       "T10_arms_tight         float64\n",
       "T10_arms_medium        float64\n",
       "T10_arms_loose         float64\n",
       "T11_arms_1             float64\n",
       "T11_arms_2             float64\n",
       "T11_arms_3             float64\n",
       "T11_arms_4             float64\n",
       "T11_arms_4+            float64\n",
       "T11_arms_no            float64\n",
       "dtype: object"
      ]
     },
     "execution_count": 3,
     "metadata": {},
     "output_type": "execute_result"
    }
   ],
   "source": [
    "df.dtypes"
   ]
  },
  {
   "cell_type": "code",
   "execution_count": 4,
   "id": "83c694a0",
   "metadata": {
    "ExecuteTime": {
     "end_time": "2023-01-27T14:58:40.926901Z",
     "start_time": "2023-01-27T14:58:40.902590Z"
    },
    "collapsed": true
   },
   "outputs": [
    {
     "data": {
      "text/plain": [
       "asset_id               False\n",
       "T1_smooth              False\n",
       "T1_features_disk       False\n",
       "T1_star_artifact       False\n",
       "T2_edgeon_yes          False\n",
       "T2_edgeon_no            True\n",
       "T3_bar                 False\n",
       "T3_no_bar               True\n",
       "T4_spiral              False\n",
       "T4_no_spiral            True\n",
       "T5_no_bulge            False\n",
       "T5_noticeable_bulge    False\n",
       "T5_obvious_bulge       False\n",
       "T5_dominant_bulge       True\n",
       "T6_odd_yes              True\n",
       "T6_odd_no              False\n",
       "T7_round                True\n",
       "T7_inbetween           False\n",
       "T7_cigar               False\n",
       "T8_odd_ring            False\n",
       "T8_odd_lens_arc        False\n",
       "T8_odd_disturbed       False\n",
       "T8_odd_irregular       False\n",
       "T8_odd_other           False\n",
       "T8_odd_merger          False\n",
       "T8_odd_dustlane         True\n",
       "T9_bulge_round          True\n",
       "T9_bulge_boxy           True\n",
       "T9_bulge_no            False\n",
       "T10_arms_tight         False\n",
       "T10_arms_medium        False\n",
       "T10_arms_loose         False\n",
       "T11_arms_1              True\n",
       "T11_arms_2              True\n",
       "T11_arms_3             False\n",
       "T11_arms_4             False\n",
       "T11_arms_4+            False\n",
       "T11_arms_no            False\n",
       "dtype: bool"
      ]
     },
     "execution_count": 4,
     "metadata": {},
     "output_type": "execute_result"
    }
   ],
   "source": [
    "df.isnull().any()"
   ]
  },
  {
   "cell_type": "code",
   "execution_count": 5,
   "id": "391c7210",
   "metadata": {
    "ExecuteTime": {
     "end_time": "2023-01-27T14:58:45.046854Z",
     "start_time": "2023-01-27T14:58:44.969165Z"
    }
   },
   "outputs": [],
   "source": [
    "df = df.dropna()"
   ]
  },
  {
   "cell_type": "code",
   "execution_count": 6,
   "id": "8c4f304e",
   "metadata": {
    "ExecuteTime": {
     "end_time": "2023-01-27T14:58:49.503039Z",
     "start_time": "2023-01-27T14:58:48.035320Z"
    }
   },
   "outputs": [
    {
     "name": "stderr",
     "output_type": "stream",
     "text": [
      "C:\\Users\\HelenLuhaar\\AppData\\Local\\Temp\\ipykernel_23168\\3318997013.py:2: SettingWithCopyWarning: \n",
      "A value is trying to be set on a copy of a slice from a DataFrame.\n",
      "Try using .loc[row_indexer,col_indexer] = value instead\n",
      "\n",
      "See the caveats in the documentation: https://pandas.pydata.org/pandas-docs/stable/user_guide/indexing.html#returning-a-view-versus-a-copy\n",
      "  df['asset_id_path'] = 'C:/python_lessons/January_Project/images/' + df['asset_id'].astype(str) + '.jpg'\n"
     ]
    },
    {
     "data": {
      "text/html": [
       "<div>\n",
       "<style scoped>\n",
       "    .dataframe tbody tr th:only-of-type {\n",
       "        vertical-align: middle;\n",
       "    }\n",
       "\n",
       "    .dataframe tbody tr th {\n",
       "        vertical-align: top;\n",
       "    }\n",
       "\n",
       "    .dataframe thead th {\n",
       "        text-align: right;\n",
       "    }\n",
       "</style>\n",
       "<table border=\"1\" class=\"dataframe\">\n",
       "  <thead>\n",
       "    <tr style=\"text-align: right;\">\n",
       "      <th></th>\n",
       "      <th>asset_id</th>\n",
       "      <th>T1_smooth</th>\n",
       "      <th>T1_features_disk</th>\n",
       "      <th>T1_star_artifact</th>\n",
       "      <th>T2_edgeon_yes</th>\n",
       "      <th>T2_edgeon_no</th>\n",
       "      <th>T3_bar</th>\n",
       "      <th>T3_no_bar</th>\n",
       "      <th>T4_spiral</th>\n",
       "      <th>T4_no_spiral</th>\n",
       "      <th>...</th>\n",
       "      <th>T10_arms_tight</th>\n",
       "      <th>T10_arms_medium</th>\n",
       "      <th>T10_arms_loose</th>\n",
       "      <th>T11_arms_1</th>\n",
       "      <th>T11_arms_2</th>\n",
       "      <th>T11_arms_3</th>\n",
       "      <th>T11_arms_4</th>\n",
       "      <th>T11_arms_4+</th>\n",
       "      <th>T11_arms_no</th>\n",
       "      <th>asset_id_path</th>\n",
       "    </tr>\n",
       "  </thead>\n",
       "  <tbody>\n",
       "    <tr>\n",
       "      <th>0</th>\n",
       "      <td>3</td>\n",
       "      <td>0.216</td>\n",
       "      <td>0.736</td>\n",
       "      <td>0.000</td>\n",
       "      <td>0.000000</td>\n",
       "      <td>1.000000</td>\n",
       "      <td>0.376434</td>\n",
       "      <td>0.541040</td>\n",
       "      <td>0.751993</td>\n",
       "      <td>3.489199e-02</td>\n",
       "      <td>...</td>\n",
       "      <td>0.000000</td>\n",
       "      <td>0.000000</td>\n",
       "      <td>1.000000</td>\n",
       "      <td>0.000000</td>\n",
       "      <td>0.000000</td>\n",
       "      <td>0.00000</td>\n",
       "      <td>0.00000</td>\n",
       "      <td>0.000000</td>\n",
       "      <td>1.000000</td>\n",
       "      <td>C:/python_lessons/January_Project/images/3.jpg</td>\n",
       "    </tr>\n",
       "    <tr>\n",
       "      <th>1</th>\n",
       "      <td>4</td>\n",
       "      <td>0.216</td>\n",
       "      <td>0.736</td>\n",
       "      <td>0.000</td>\n",
       "      <td>0.000000</td>\n",
       "      <td>1.000000</td>\n",
       "      <td>0.376434</td>\n",
       "      <td>0.541040</td>\n",
       "      <td>0.751993</td>\n",
       "      <td>3.489199e-02</td>\n",
       "      <td>...</td>\n",
       "      <td>0.000000</td>\n",
       "      <td>0.000000</td>\n",
       "      <td>1.000000</td>\n",
       "      <td>0.000000</td>\n",
       "      <td>0.000000</td>\n",
       "      <td>0.00000</td>\n",
       "      <td>0.00000</td>\n",
       "      <td>0.000000</td>\n",
       "      <td>1.000000</td>\n",
       "      <td>C:/python_lessons/January_Project/images/4.jpg</td>\n",
       "    </tr>\n",
       "    <tr>\n",
       "      <th>2</th>\n",
       "      <td>5</td>\n",
       "      <td>0.773</td>\n",
       "      <td>0.029</td>\n",
       "      <td>0.114</td>\n",
       "      <td>0.000000</td>\n",
       "      <td>1.000000</td>\n",
       "      <td>0.000000</td>\n",
       "      <td>1.000000</td>\n",
       "      <td>0.000000</td>\n",
       "      <td>1.000000e+00</td>\n",
       "      <td>...</td>\n",
       "      <td>0.000000</td>\n",
       "      <td>0.000000</td>\n",
       "      <td>0.000000</td>\n",
       "      <td>0.000000</td>\n",
       "      <td>0.000000</td>\n",
       "      <td>0.00000</td>\n",
       "      <td>0.00000</td>\n",
       "      <td>0.000000</td>\n",
       "      <td>0.000000</td>\n",
       "      <td>C:/python_lessons/January_Project/images/5.jpg</td>\n",
       "    </tr>\n",
       "    <tr>\n",
       "      <th>3</th>\n",
       "      <td>6</td>\n",
       "      <td>0.152</td>\n",
       "      <td>0.639</td>\n",
       "      <td>0.009</td>\n",
       "      <td>0.000000</td>\n",
       "      <td>1.000000</td>\n",
       "      <td>0.000000</td>\n",
       "      <td>1.000000</td>\n",
       "      <td>0.692553</td>\n",
       "      <td>2.628765e-01</td>\n",
       "      <td>...</td>\n",
       "      <td>1.000000</td>\n",
       "      <td>0.000000</td>\n",
       "      <td>0.000000</td>\n",
       "      <td>1.000000</td>\n",
       "      <td>0.000000</td>\n",
       "      <td>0.00000</td>\n",
       "      <td>0.00000</td>\n",
       "      <td>0.000000</td>\n",
       "      <td>0.000000</td>\n",
       "      <td>C:/python_lessons/January_Project/images/6.jpg</td>\n",
       "    </tr>\n",
       "    <tr>\n",
       "      <th>4</th>\n",
       "      <td>7</td>\n",
       "      <td>0.152</td>\n",
       "      <td>0.639</td>\n",
       "      <td>0.009</td>\n",
       "      <td>0.000000</td>\n",
       "      <td>1.000000</td>\n",
       "      <td>0.000000</td>\n",
       "      <td>1.000000</td>\n",
       "      <td>0.692553</td>\n",
       "      <td>2.628765e-01</td>\n",
       "      <td>...</td>\n",
       "      <td>1.000000</td>\n",
       "      <td>0.000000</td>\n",
       "      <td>0.000000</td>\n",
       "      <td>1.000000</td>\n",
       "      <td>0.000000</td>\n",
       "      <td>0.00000</td>\n",
       "      <td>0.00000</td>\n",
       "      <td>0.000000</td>\n",
       "      <td>0.000000</td>\n",
       "      <td>C:/python_lessons/January_Project/images/7.jpg</td>\n",
       "    </tr>\n",
       "    <tr>\n",
       "      <th>...</th>\n",
       "      <td>...</td>\n",
       "      <td>...</td>\n",
       "      <td>...</td>\n",
       "      <td>...</td>\n",
       "      <td>...</td>\n",
       "      <td>...</td>\n",
       "      <td>...</td>\n",
       "      <td>...</td>\n",
       "      <td>...</td>\n",
       "      <td>...</td>\n",
       "      <td>...</td>\n",
       "      <td>...</td>\n",
       "      <td>...</td>\n",
       "      <td>...</td>\n",
       "      <td>...</td>\n",
       "      <td>...</td>\n",
       "      <td>...</td>\n",
       "      <td>...</td>\n",
       "      <td>...</td>\n",
       "      <td>...</td>\n",
       "      <td>...</td>\n",
       "    </tr>\n",
       "    <tr>\n",
       "      <th>267062</th>\n",
       "      <td>295294</td>\n",
       "      <td>0.000</td>\n",
       "      <td>1.000</td>\n",
       "      <td>0.000</td>\n",
       "      <td>0.000000</td>\n",
       "      <td>1.000000</td>\n",
       "      <td>0.912724</td>\n",
       "      <td>0.049065</td>\n",
       "      <td>1.000000</td>\n",
       "      <td>0.000000e+00</td>\n",
       "      <td>...</td>\n",
       "      <td>0.395750</td>\n",
       "      <td>0.516223</td>\n",
       "      <td>0.080662</td>\n",
       "      <td>0.000000</td>\n",
       "      <td>0.068418</td>\n",
       "      <td>0.05868</td>\n",
       "      <td>0.50517</td>\n",
       "      <td>0.419035</td>\n",
       "      <td>0.029496</td>\n",
       "      <td>C:/python_lessons/January_Project/images/29529...</td>\n",
       "    </tr>\n",
       "    <tr>\n",
       "      <th>267063</th>\n",
       "      <td>295295</td>\n",
       "      <td>0.800</td>\n",
       "      <td>0.146</td>\n",
       "      <td>0.073</td>\n",
       "      <td>0.126668</td>\n",
       "      <td>0.836558</td>\n",
       "      <td>0.000000</td>\n",
       "      <td>1.000000</td>\n",
       "      <td>0.993507</td>\n",
       "      <td>2.460000e-27</td>\n",
       "      <td>...</td>\n",
       "      <td>0.000000</td>\n",
       "      <td>1.000000</td>\n",
       "      <td>0.000000</td>\n",
       "      <td>0.000000</td>\n",
       "      <td>0.000000</td>\n",
       "      <td>0.00000</td>\n",
       "      <td>0.00000</td>\n",
       "      <td>0.000000</td>\n",
       "      <td>1.000000</td>\n",
       "      <td>C:/python_lessons/January_Project/images/29529...</td>\n",
       "    </tr>\n",
       "    <tr>\n",
       "      <th>267064</th>\n",
       "      <td>295296</td>\n",
       "      <td>0.800</td>\n",
       "      <td>0.146</td>\n",
       "      <td>0.073</td>\n",
       "      <td>0.126668</td>\n",
       "      <td>0.836558</td>\n",
       "      <td>0.000000</td>\n",
       "      <td>1.000000</td>\n",
       "      <td>0.993507</td>\n",
       "      <td>2.460000e-27</td>\n",
       "      <td>...</td>\n",
       "      <td>0.000000</td>\n",
       "      <td>1.000000</td>\n",
       "      <td>0.000000</td>\n",
       "      <td>0.000000</td>\n",
       "      <td>0.000000</td>\n",
       "      <td>0.00000</td>\n",
       "      <td>0.00000</td>\n",
       "      <td>0.000000</td>\n",
       "      <td>1.000000</td>\n",
       "      <td>C:/python_lessons/January_Project/images/29529...</td>\n",
       "    </tr>\n",
       "    <tr>\n",
       "      <th>267065</th>\n",
       "      <td>295304</td>\n",
       "      <td>0.089</td>\n",
       "      <td>0.892</td>\n",
       "      <td>0.010</td>\n",
       "      <td>0.343208</td>\n",
       "      <td>0.668841</td>\n",
       "      <td>0.228637</td>\n",
       "      <td>0.750691</td>\n",
       "      <td>0.982358</td>\n",
       "      <td>6.400000e-06</td>\n",
       "      <td>...</td>\n",
       "      <td>0.313458</td>\n",
       "      <td>0.266263</td>\n",
       "      <td>0.361677</td>\n",
       "      <td>0.075168</td>\n",
       "      <td>0.115436</td>\n",
       "      <td>0.00000</td>\n",
       "      <td>0.00000</td>\n",
       "      <td>0.000000</td>\n",
       "      <td>0.692101</td>\n",
       "      <td>C:/python_lessons/January_Project/images/29530...</td>\n",
       "    </tr>\n",
       "    <tr>\n",
       "      <th>267066</th>\n",
       "      <td>295305</td>\n",
       "      <td>0.089</td>\n",
       "      <td>0.892</td>\n",
       "      <td>0.010</td>\n",
       "      <td>0.343208</td>\n",
       "      <td>0.668841</td>\n",
       "      <td>0.228637</td>\n",
       "      <td>0.750691</td>\n",
       "      <td>0.982358</td>\n",
       "      <td>6.400000e-06</td>\n",
       "      <td>...</td>\n",
       "      <td>0.313458</td>\n",
       "      <td>0.266263</td>\n",
       "      <td>0.361677</td>\n",
       "      <td>0.075168</td>\n",
       "      <td>0.115436</td>\n",
       "      <td>0.00000</td>\n",
       "      <td>0.00000</td>\n",
       "      <td>0.000000</td>\n",
       "      <td>0.692101</td>\n",
       "      <td>C:/python_lessons/January_Project/images/29530...</td>\n",
       "    </tr>\n",
       "  </tbody>\n",
       "</table>\n",
       "<p>266785 rows × 39 columns</p>\n",
       "</div>"
      ],
      "text/plain": [
       "        asset_id  T1_smooth  T1_features_disk  T1_star_artifact  \\\n",
       "0              3      0.216             0.736             0.000   \n",
       "1              4      0.216             0.736             0.000   \n",
       "2              5      0.773             0.029             0.114   \n",
       "3              6      0.152             0.639             0.009   \n",
       "4              7      0.152             0.639             0.009   \n",
       "...          ...        ...               ...               ...   \n",
       "267062    295294      0.000             1.000             0.000   \n",
       "267063    295295      0.800             0.146             0.073   \n",
       "267064    295296      0.800             0.146             0.073   \n",
       "267065    295304      0.089             0.892             0.010   \n",
       "267066    295305      0.089             0.892             0.010   \n",
       "\n",
       "        T2_edgeon_yes  T2_edgeon_no    T3_bar  T3_no_bar  T4_spiral  \\\n",
       "0            0.000000      1.000000  0.376434   0.541040   0.751993   \n",
       "1            0.000000      1.000000  0.376434   0.541040   0.751993   \n",
       "2            0.000000      1.000000  0.000000   1.000000   0.000000   \n",
       "3            0.000000      1.000000  0.000000   1.000000   0.692553   \n",
       "4            0.000000      1.000000  0.000000   1.000000   0.692553   \n",
       "...               ...           ...       ...        ...        ...   \n",
       "267062       0.000000      1.000000  0.912724   0.049065   1.000000   \n",
       "267063       0.126668      0.836558  0.000000   1.000000   0.993507   \n",
       "267064       0.126668      0.836558  0.000000   1.000000   0.993507   \n",
       "267065       0.343208      0.668841  0.228637   0.750691   0.982358   \n",
       "267066       0.343208      0.668841  0.228637   0.750691   0.982358   \n",
       "\n",
       "        T4_no_spiral  ...  T10_arms_tight  T10_arms_medium  T10_arms_loose  \\\n",
       "0       3.489199e-02  ...        0.000000         0.000000        1.000000   \n",
       "1       3.489199e-02  ...        0.000000         0.000000        1.000000   \n",
       "2       1.000000e+00  ...        0.000000         0.000000        0.000000   \n",
       "3       2.628765e-01  ...        1.000000         0.000000        0.000000   \n",
       "4       2.628765e-01  ...        1.000000         0.000000        0.000000   \n",
       "...              ...  ...             ...              ...             ...   \n",
       "267062  0.000000e+00  ...        0.395750         0.516223        0.080662   \n",
       "267063  2.460000e-27  ...        0.000000         1.000000        0.000000   \n",
       "267064  2.460000e-27  ...        0.000000         1.000000        0.000000   \n",
       "267065  6.400000e-06  ...        0.313458         0.266263        0.361677   \n",
       "267066  6.400000e-06  ...        0.313458         0.266263        0.361677   \n",
       "\n",
       "        T11_arms_1  T11_arms_2  T11_arms_3  T11_arms_4  T11_arms_4+  \\\n",
       "0         0.000000    0.000000     0.00000     0.00000     0.000000   \n",
       "1         0.000000    0.000000     0.00000     0.00000     0.000000   \n",
       "2         0.000000    0.000000     0.00000     0.00000     0.000000   \n",
       "3         1.000000    0.000000     0.00000     0.00000     0.000000   \n",
       "4         1.000000    0.000000     0.00000     0.00000     0.000000   \n",
       "...            ...         ...         ...         ...          ...   \n",
       "267062    0.000000    0.068418     0.05868     0.50517     0.419035   \n",
       "267063    0.000000    0.000000     0.00000     0.00000     0.000000   \n",
       "267064    0.000000    0.000000     0.00000     0.00000     0.000000   \n",
       "267065    0.075168    0.115436     0.00000     0.00000     0.000000   \n",
       "267066    0.075168    0.115436     0.00000     0.00000     0.000000   \n",
       "\n",
       "        T11_arms_no                                      asset_id_path  \n",
       "0          1.000000     C:/python_lessons/January_Project/images/3.jpg  \n",
       "1          1.000000     C:/python_lessons/January_Project/images/4.jpg  \n",
       "2          0.000000     C:/python_lessons/January_Project/images/5.jpg  \n",
       "3          0.000000     C:/python_lessons/January_Project/images/6.jpg  \n",
       "4          0.000000     C:/python_lessons/January_Project/images/7.jpg  \n",
       "...             ...                                                ...  \n",
       "267062     0.029496  C:/python_lessons/January_Project/images/29529...  \n",
       "267063     1.000000  C:/python_lessons/January_Project/images/29529...  \n",
       "267064     1.000000  C:/python_lessons/January_Project/images/29529...  \n",
       "267065     0.692101  C:/python_lessons/January_Project/images/29530...  \n",
       "267066     0.692101  C:/python_lessons/January_Project/images/29530...  \n",
       "\n",
       "[266785 rows x 39 columns]"
      ]
     },
     "execution_count": 6,
     "metadata": {},
     "output_type": "execute_result"
    }
   ],
   "source": [
    "#Chaning the id to a path to remove rows more easily\n",
    "df['asset_id_path'] = 'C:/python_lessons/January_Project/images/' + df['asset_id'].astype(str) + '.jpg'\n",
    "df"
   ]
  },
  {
   "cell_type": "code",
   "execution_count": 1,
   "id": "081b33d7",
   "metadata": {
    "ExecuteTime": {
     "end_time": "2023-01-30T09:38:32.259966Z",
     "start_time": "2023-01-30T09:38:32.247996Z"
    }
   },
   "outputs": [],
   "source": [
    "#Removing all the rows which do not have a corresponding image\n",
    "        \n",
    "#for index, sample in df.iterrows():\n",
    "    #if not os.path.isfile(sample['asset_id_path']):\n",
    "        #df = df.drop(index)\n",
    "        \n",
    "        #if index % 100 == 0:\n",
    "            #print(index)"
   ]
  },
  {
   "cell_type": "code",
   "execution_count": 14,
   "id": "5c88e434",
   "metadata": {
    "ExecuteTime": {
     "end_time": "2023-01-27T15:47:11.166548Z",
     "start_time": "2023-01-27T15:47:02.136920Z"
    }
   },
   "outputs": [],
   "source": [
    "#df.to_csv('Traininglabels_cleaned.csv', index=False)"
   ]
  },
  {
   "cell_type": "code",
   "execution_count": 4,
   "id": "fb27dc92",
   "metadata": {
    "ExecuteTime": {
     "end_time": "2023-01-27T15:55:11.500429Z",
     "start_time": "2023-01-27T15:55:09.946064Z"
    }
   },
   "outputs": [
    {
     "data": {
      "text/html": [
       "<div>\n",
       "<style scoped>\n",
       "    .dataframe tbody tr th:only-of-type {\n",
       "        vertical-align: middle;\n",
       "    }\n",
       "\n",
       "    .dataframe tbody tr th {\n",
       "        vertical-align: top;\n",
       "    }\n",
       "\n",
       "    .dataframe thead th {\n",
       "        text-align: right;\n",
       "    }\n",
       "</style>\n",
       "<table border=\"1\" class=\"dataframe\">\n",
       "  <thead>\n",
       "    <tr style=\"text-align: right;\">\n",
       "      <th></th>\n",
       "      <th>asset_id</th>\n",
       "      <th>T1_smooth</th>\n",
       "      <th>T1_features_disk</th>\n",
       "      <th>T1_star_artifact</th>\n",
       "      <th>T2_edgeon_yes</th>\n",
       "      <th>T2_edgeon_no</th>\n",
       "      <th>T3_bar</th>\n",
       "      <th>T3_no_bar</th>\n",
       "      <th>T4_spiral</th>\n",
       "      <th>T4_no_spiral</th>\n",
       "      <th>...</th>\n",
       "      <th>T10_arms_tight</th>\n",
       "      <th>T10_arms_medium</th>\n",
       "      <th>T10_arms_loose</th>\n",
       "      <th>T11_arms_1</th>\n",
       "      <th>T11_arms_2</th>\n",
       "      <th>T11_arms_3</th>\n",
       "      <th>T11_arms_4</th>\n",
       "      <th>T11_arms_4+</th>\n",
       "      <th>T11_arms_no</th>\n",
       "      <th>asset_id_path</th>\n",
       "    </tr>\n",
       "  </thead>\n",
       "  <tbody>\n",
       "    <tr>\n",
       "      <th>0</th>\n",
       "      <td>3</td>\n",
       "      <td>0.216</td>\n",
       "      <td>0.736</td>\n",
       "      <td>0.000</td>\n",
       "      <td>0.0</td>\n",
       "      <td>1.0</td>\n",
       "      <td>0.376434</td>\n",
       "      <td>0.54104</td>\n",
       "      <td>0.751993</td>\n",
       "      <td>0.034892</td>\n",
       "      <td>...</td>\n",
       "      <td>0.0</td>\n",
       "      <td>0.0</td>\n",
       "      <td>1.0</td>\n",
       "      <td>0.0</td>\n",
       "      <td>0.0</td>\n",
       "      <td>0.0</td>\n",
       "      <td>0.0</td>\n",
       "      <td>0.0</td>\n",
       "      <td>1.0</td>\n",
       "      <td>3.jpg</td>\n",
       "    </tr>\n",
       "    <tr>\n",
       "      <th>1</th>\n",
       "      <td>4</td>\n",
       "      <td>0.216</td>\n",
       "      <td>0.736</td>\n",
       "      <td>0.000</td>\n",
       "      <td>0.0</td>\n",
       "      <td>1.0</td>\n",
       "      <td>0.376434</td>\n",
       "      <td>0.54104</td>\n",
       "      <td>0.751993</td>\n",
       "      <td>0.034892</td>\n",
       "      <td>...</td>\n",
       "      <td>0.0</td>\n",
       "      <td>0.0</td>\n",
       "      <td>1.0</td>\n",
       "      <td>0.0</td>\n",
       "      <td>0.0</td>\n",
       "      <td>0.0</td>\n",
       "      <td>0.0</td>\n",
       "      <td>0.0</td>\n",
       "      <td>1.0</td>\n",
       "      <td>4.jpg</td>\n",
       "    </tr>\n",
       "    <tr>\n",
       "      <th>2</th>\n",
       "      <td>5</td>\n",
       "      <td>0.773</td>\n",
       "      <td>0.029</td>\n",
       "      <td>0.114</td>\n",
       "      <td>0.0</td>\n",
       "      <td>1.0</td>\n",
       "      <td>0.000000</td>\n",
       "      <td>1.00000</td>\n",
       "      <td>0.000000</td>\n",
       "      <td>1.000000</td>\n",
       "      <td>...</td>\n",
       "      <td>0.0</td>\n",
       "      <td>0.0</td>\n",
       "      <td>0.0</td>\n",
       "      <td>0.0</td>\n",
       "      <td>0.0</td>\n",
       "      <td>0.0</td>\n",
       "      <td>0.0</td>\n",
       "      <td>0.0</td>\n",
       "      <td>0.0</td>\n",
       "      <td>5.jpg</td>\n",
       "    </tr>\n",
       "    <tr>\n",
       "      <th>3</th>\n",
       "      <td>6</td>\n",
       "      <td>0.152</td>\n",
       "      <td>0.639</td>\n",
       "      <td>0.009</td>\n",
       "      <td>0.0</td>\n",
       "      <td>1.0</td>\n",
       "      <td>0.000000</td>\n",
       "      <td>1.00000</td>\n",
       "      <td>0.692553</td>\n",
       "      <td>0.262876</td>\n",
       "      <td>...</td>\n",
       "      <td>1.0</td>\n",
       "      <td>0.0</td>\n",
       "      <td>0.0</td>\n",
       "      <td>1.0</td>\n",
       "      <td>0.0</td>\n",
       "      <td>0.0</td>\n",
       "      <td>0.0</td>\n",
       "      <td>0.0</td>\n",
       "      <td>0.0</td>\n",
       "      <td>6.jpg</td>\n",
       "    </tr>\n",
       "    <tr>\n",
       "      <th>4</th>\n",
       "      <td>7</td>\n",
       "      <td>0.152</td>\n",
       "      <td>0.639</td>\n",
       "      <td>0.009</td>\n",
       "      <td>0.0</td>\n",
       "      <td>1.0</td>\n",
       "      <td>0.000000</td>\n",
       "      <td>1.00000</td>\n",
       "      <td>0.692553</td>\n",
       "      <td>0.262876</td>\n",
       "      <td>...</td>\n",
       "      <td>1.0</td>\n",
       "      <td>0.0</td>\n",
       "      <td>0.0</td>\n",
       "      <td>1.0</td>\n",
       "      <td>0.0</td>\n",
       "      <td>0.0</td>\n",
       "      <td>0.0</td>\n",
       "      <td>0.0</td>\n",
       "      <td>0.0</td>\n",
       "      <td>7.jpg</td>\n",
       "    </tr>\n",
       "  </tbody>\n",
       "</table>\n",
       "<p>5 rows × 39 columns</p>\n",
       "</div>"
      ],
      "text/plain": [
       "   asset_id  T1_smooth  T1_features_disk  T1_star_artifact  T2_edgeon_yes  \\\n",
       "0         3      0.216             0.736             0.000            0.0   \n",
       "1         4      0.216             0.736             0.000            0.0   \n",
       "2         5      0.773             0.029             0.114            0.0   \n",
       "3         6      0.152             0.639             0.009            0.0   \n",
       "4         7      0.152             0.639             0.009            0.0   \n",
       "\n",
       "   T2_edgeon_no    T3_bar  T3_no_bar  T4_spiral  T4_no_spiral  ...  \\\n",
       "0           1.0  0.376434    0.54104   0.751993      0.034892  ...   \n",
       "1           1.0  0.376434    0.54104   0.751993      0.034892  ...   \n",
       "2           1.0  0.000000    1.00000   0.000000      1.000000  ...   \n",
       "3           1.0  0.000000    1.00000   0.692553      0.262876  ...   \n",
       "4           1.0  0.000000    1.00000   0.692553      0.262876  ...   \n",
       "\n",
       "   T10_arms_tight  T10_arms_medium  T10_arms_loose  T11_arms_1  T11_arms_2  \\\n",
       "0             0.0              0.0             1.0         0.0         0.0   \n",
       "1             0.0              0.0             1.0         0.0         0.0   \n",
       "2             0.0              0.0             0.0         0.0         0.0   \n",
       "3             1.0              0.0             0.0         1.0         0.0   \n",
       "4             1.0              0.0             0.0         1.0         0.0   \n",
       "\n",
       "   T11_arms_3  T11_arms_4  T11_arms_4+  T11_arms_no  asset_id_path  \n",
       "0         0.0         0.0          0.0          1.0          3.jpg  \n",
       "1         0.0         0.0          0.0          1.0          4.jpg  \n",
       "2         0.0         0.0          0.0          0.0          5.jpg  \n",
       "3         0.0         0.0          0.0          0.0          6.jpg  \n",
       "4         0.0         0.0          0.0          0.0          7.jpg  \n",
       "\n",
       "[5 rows x 39 columns]"
      ]
     },
     "execution_count": 4,
     "metadata": {},
     "output_type": "execute_result"
    }
   ],
   "source": [
    "df = pd.read_csv('Traininglabels_cleaned.csv')\n",
    "df['asset_id_path'] = df['asset_id'].astype(str) + '.jpg'\n",
    "df.head() "
   ]
  },
  {
   "cell_type": "code",
   "execution_count": 7,
   "id": "e3e9b5d4",
   "metadata": {
    "ExecuteTime": {
     "end_time": "2023-01-27T16:04:57.333772Z",
     "start_time": "2023-01-27T16:04:57.320739Z"
    }
   },
   "outputs": [],
   "source": [
    "list_files = df[\"asset_id_path\"].values.tolist()\n",
    "#Putting the filenames into a list"
   ]
  },
  {
   "cell_type": "code",
   "execution_count": 2,
   "id": "eed06e1e",
   "metadata": {
    "ExecuteTime": {
     "end_time": "2023-01-30T09:38:53.487443Z",
     "start_time": "2023-01-30T09:38:53.469325Z"
    }
   },
   "outputs": [],
   "source": [
    "#There are more files in the directory than there is informantion about them, so deleting all the files which are not in the dataframe\n",
    "\n",
    "#data_path = \"C:/python_lessons/January_Project/images/\"\n",
    "\n",
    "#for filename in os.listdir(data_path):\n",
    "    #print(filename)\n",
    "    #if filename not in list_files:\n",
    "        #os.remove(os.path.join(data_path,filename))\n",
    "    "
   ]
  },
  {
   "cell_type": "markdown",
   "id": "171beb92",
   "metadata": {},
   "source": [
    "## Model Building in Keras"
   ]
  },
  {
   "cell_type": "code",
   "execution_count": 3,
   "id": "007a70e1",
   "metadata": {
    "ExecuteTime": {
     "end_time": "2023-01-30T09:39:02.715076Z",
     "start_time": "2023-01-30T09:39:02.701128Z"
    }
   },
   "outputs": [],
   "source": [
    "#import splitfolders\n",
    "\n",
    "#input_folder = 'C:/python_lessons/January_Project/1cat/'\n",
    "\n",
    "#splitfolders.ratio(input_folder, output='split_images100',seed=42, ratio=(0.25,0.05,0.70), group_prefix=None)"
   ]
  },
  {
   "cell_type": "code",
   "execution_count": 7,
   "id": "fc8564f6",
   "metadata": {
    "ExecuteTime": {
     "end_time": "2023-01-27T19:58:35.933395Z",
     "start_time": "2023-01-27T19:58:35.912113Z"
    }
   },
   "outputs": [],
   "source": [
    "from keras.models import Sequential, Model\n",
    "from keras.layers.core import Flatten, Dense, Dropout, Lambda, Reshape\n",
    "from keras.layers import Input\n",
    "from keras.layers.convolutional import Convolution2D, MaxPooling2D, ZeroPadding2D\n",
    "from keras.layers import Conv2D, MaxPooling2D, Activation, LeakyReLU\n",
    "from keras.optimizers import SGD, RMSprop, Adam\n",
    "from torchvision import transforms\n",
    "import torchvision\n",
    "import torch\n",
    "\n",
    "import matplotlib.pylab as plt\n",
    "%matplotlib inline"
   ]
  },
  {
   "cell_type": "code",
   "execution_count": 3,
   "id": "d3283090",
   "metadata": {
    "ExecuteTime": {
     "end_time": "2023-01-27T19:57:06.703658Z",
     "start_time": "2023-01-27T19:57:06.695608Z"
    }
   },
   "outputs": [],
   "source": [
    "datapath = 'C:/python_lessons/January_Project/split_images100/'"
   ]
  },
  {
   "cell_type": "code",
   "execution_count": 4,
   "id": "90871fd5",
   "metadata": {
    "ExecuteTime": {
     "end_time": "2023-01-27T19:57:16.154107Z",
     "start_time": "2023-01-27T19:57:11.705195Z"
    }
   },
   "outputs": [
    {
     "name": "stdout",
     "output_type": "stream",
     "text": [
      "C:/python_lessons/January_Project/split_images100/train/images\n"
     ]
    }
   ],
   "source": [
    "class data_getter:    \n",
    "    \"\"\"\n",
    "    Creates a class for handling train/valid/test data paths,\n",
    "    training labels and image IDs.\n",
    "    Useful for switching between sample and full datasets.\n",
    "    \"\"\"\n",
    "    def __init__(self, path):    \n",
    "        self.path = path \n",
    "        self.train_path = path + 'train/images'\n",
    "        self.test_path = path + 'val/images'\n",
    "        \n",
    "        def get_paths(directory):\n",
    "            return [f for f in os.listdir(directory)]\n",
    "        \n",
    "        self.training_images_paths = get_paths(self.train_path)\n",
    "        self.testing_images_paths = get_paths(self.test_path)    \n",
    "        \n",
    "        def get_all_solutions():\n",
    "        ### Import solutions file and load into self.solutions\n",
    "            import csv\n",
    "            all_solutions = {}\n",
    "            with open('C:/python_lessons/January_Project/Traininglabels_cleaned.csv', 'r') as f:\n",
    "                reader = csv.reader(f, delimiter=\",\")\n",
    "                next(reader)\n",
    "                for i, line in enumerate(reader):\n",
    "                    all_solutions[line[0]] = [float(x) for x in line[1:4]]\n",
    "            return all_solutions\n",
    "        \n",
    "        self.all_solutions = get_all_solutions()\n",
    "\n",
    "    def get_id(self,fname):\n",
    "        return fname.replace(\".jpg\",\"\").replace('data','')\n",
    "        \n",
    "        \n",
    "    def find_label(self,val):\n",
    "        try:\n",
    "            return self.all_solutions[val]\n",
    "        except KeyError: #If there is no data of that particular image\n",
    "            pass\n",
    "        \n",
    "\n",
    "fetcher = data_getter(datapath)\n",
    "print(fetcher.train_path)"
   ]
  },
  {
   "cell_type": "code",
   "execution_count": 5,
   "id": "afa972d6",
   "metadata": {
    "ExecuteTime": {
     "end_time": "2023-01-27T19:57:20.855615Z",
     "start_time": "2023-01-27T19:57:20.832362Z"
    }
   },
   "outputs": [],
   "source": [
    "def process_images(paths):\n",
    "    \"\"\"\n",
    "    Import image at 'paths', decode, centre crop and prepare for batching. \n",
    "    \"\"\"\n",
    "    undersampling = transforms.Resize(106)\n",
    "    count = len(paths)\n",
    "    arr = np.zeros(shape=(count,3,106,106))\n",
    "    for c, path in enumerate(paths):\n",
    "        img = plt.imread(path).T\n",
    "        img = img.astype('float')\n",
    "        img = img[:,106:106*3,106:106*3] #crop 424x424 -> 212x212\n",
    "        img = torch.from_numpy(img)\n",
    "        img = undersampling(img) #interpolation=cv2.INTER_CUBIC) # downsample to half res\n",
    "        img = transforms.Normalize([0.485, 0.456, 0.406], [0.229, 0.224, 0.225])(img)\n",
    "        arr[c] = img\n",
    "    return arr"
   ]
  },
  {
   "cell_type": "code",
   "execution_count": 8,
   "id": "b80fd98d",
   "metadata": {
    "ExecuteTime": {
     "end_time": "2023-01-27T19:58:43.619437Z",
     "start_time": "2023-01-27T19:58:43.140608Z"
    }
   },
   "outputs": [
    {
     "name": "stderr",
     "output_type": "stream",
     "text": [
      "Clipping input data to the valid range for imshow with RGB data ([0..1] for floats or [0..255] for integers).\n"
     ]
    },
    {
     "data": {
      "image/png": "[encoded data removed]",
      "text/plain": [
       "<Figure size 432x288 with 1 Axes>"
      ]
     },
     "metadata": {
      "needs_background": "light"
     },
     "output_type": "display_data"
    },
    {
     "name": "stderr",
     "output_type": "stream",
     "text": [
      "C:\\Users\\HelenLuhaar\\AppData\\Local\\Temp\\ipykernel_24148\\3768173621.py:11: UserWarning: The use of `x.T` on tensors of dimension other than 2 to reverse their shape is deprecated and it will throw an error in a future release. Consider `x.mT` to transpose batches of matrices or `x.permute(*torch.arange(x.ndim - 1, -1, -1))` to reverse the dimensions of a tensor. (Triggered internally at C:\\actions-runner\\_work\\pytorch\\pytorch\\builder\\windows\\pytorch\\aten\\src\\ATen\\native\\TensorShape.cpp:3281.)\n",
      "  torch_tensor_im = torch_tensor_im.T[:,106:106*3,106:106*3] #crop 424x424 -> 212x212\n",
      "Clipping input data to the valid range for imshow with RGB data ([0..1] for floats or [0..255] for integers).\n"
     ]
    },
    {
     "name": "stdout",
     "output_type": "stream",
     "text": [
      "torch.Size([3, 212, 212])\n",
      "torch.Size([3, 106, 106])\n"
     ]
    },
    {
     "data": {
      "image/png": "[encoded data removed]",
      "text/plain": [
       "<Figure size 432x288 with 1 Axes>"
      ]
     },
     "metadata": {
      "needs_background": "light"
     },
     "output_type": "display_data"
    }
   ],
   "source": [
    "# Print an image before and after preprocessing\n",
    "\n",
    "im = plt.imread(fetcher.train_path + '/' + fetcher.training_images_paths[100])\n",
    "\n",
    "im = im.astype('float')\n",
    "torch_tensor_im = torch.from_numpy(im)\n",
    "transform = transforms.Resize(106)\n",
    "\n",
    "plt.imshow(torch_tensor_im)\n",
    "plt.show()\n",
    "torch_tensor_im = torch_tensor_im.T[:,106:106*3,106:106*3] #crop 424x424 -> 212x212\n",
    "print(torch_tensor_im.shape)\n",
    "torch_tensor_im = transform(torch_tensor_im) #downsample\n",
    "torch_tensor_im = transforms.Normalize([0.485, 0.456, 0.406], [0.229, 0.224, 0.225])(torch_tensor_im)\n",
    "plt.imshow(torch_tensor_im.T)\n",
    "print(torch_tensor_im.shape)"
   ]
  },
  {
   "cell_type": "code",
   "execution_count": 9,
   "id": "5c9e3352",
   "metadata": {
    "ExecuteTime": {
     "end_time": "2023-01-27T20:11:51.747715Z",
     "start_time": "2023-01-27T19:58:52.038988Z"
    }
   },
   "outputs": [],
   "source": [
    "X_train= []\n",
    "y_train= []\n",
    "\n",
    "for f in fetcher.training_images_paths:\n",
    "    X_train_pics = process_images([fetcher.train_path + '/' + fname for fname in [f]])\n",
    "    id_ = fetcher.get_id(f)\n",
    "    y_train_values = np.array(fetcher.find_label(id_))\n",
    "    y_train_values = np.resize(y_train_values,(3))\n",
    "    X_train.append(X_train_pics)\n",
    "    y_train.append(y_train_values)"
   ]
  },
  {
   "cell_type": "code",
   "execution_count": 10,
   "id": "c6626959",
   "metadata": {
    "ExecuteTime": {
     "end_time": "2023-01-27T20:23:50.194149Z",
     "start_time": "2023-01-27T20:15:59.499277Z"
    }
   },
   "outputs": [],
   "source": [
    "X_train = np.array(X_train).astype(np.float32)\n",
    "y_train = np.array(y_train).astype(np.float32)"
   ]
  },
  {
   "cell_type": "code",
   "execution_count": 11,
   "id": "af25ec8b",
   "metadata": {
    "ExecuteTime": {
     "end_time": "2023-01-27T20:24:35.936631Z",
     "start_time": "2023-01-27T20:24:35.883927Z"
    }
   },
   "outputs": [
    {
     "data": {
      "text/plain": [
       "numpy.ndarray"
      ]
     },
     "execution_count": 11,
     "metadata": {},
     "output_type": "execute_result"
    }
   ],
   "source": [
    "type(X_train)"
   ]
  },
  {
   "cell_type": "code",
   "execution_count": 12,
   "id": "e64010f8",
   "metadata": {
    "ExecuteTime": {
     "end_time": "2023-01-27T20:24:38.887840Z",
     "start_time": "2023-01-27T20:24:38.867525Z"
    }
   },
   "outputs": [
    {
     "name": "stdout",
     "output_type": "stream",
     "text": [
      "(60067, 1, 3, 106, 106)\n",
      "(60067, 3)\n"
     ]
    }
   ],
   "source": [
    "print(X_train.shape)\n",
    "print(y_train.shape)"
   ]
  },
  {
   "cell_type": "code",
   "execution_count": 14,
   "id": "87ddcc04",
   "metadata": {
    "ExecuteTime": {
     "end_time": "2023-01-27T20:25:10.065757Z",
     "start_time": "2023-01-27T20:25:10.042334Z"
    }
   },
   "outputs": [],
   "source": [
    "X_train = X_train.reshape(60067,106,106,3)"
   ]
  },
  {
   "cell_type": "code",
   "execution_count": 15,
   "id": "006fb8fe",
   "metadata": {
    "ExecuteTime": {
     "end_time": "2023-01-27T20:25:13.405924Z",
     "start_time": "2023-01-27T20:25:13.389680Z"
    }
   },
   "outputs": [
    {
     "data": {
      "text/plain": [
       "(60067, 106, 106, 3)"
      ]
     },
     "execution_count": 15,
     "metadata": {},
     "output_type": "execute_result"
    }
   ],
   "source": [
    "X_train.shape"
   ]
  },
  {
   "cell_type": "code",
   "execution_count": 16,
   "id": "e03932ee",
   "metadata": {
    "ExecuteTime": {
     "end_time": "2023-01-27T20:25:28.303777Z",
     "start_time": "2023-01-27T20:25:26.390569Z"
    }
   },
   "outputs": [],
   "source": [
    "def ConvBlock(layers, model, filters):\n",
    "    \"\"\"\n",
    "    Create a layered Conv/Pooling block\n",
    "    \"\"\"\n",
    "    for i in range(layers): \n",
    "        model.add(ZeroPadding2D((1,1)))  # zero padding of size 1\n",
    "        model.add(Convolution2D(filters, 3, 3, activation='relu'))  # 3x3 filter size \n",
    "    model.add(MaxPooling2D((2,2), strides=(2,2), padding='same'))\n",
    "\n",
    "def FCBlock(model):\n",
    "    \"\"\"\n",
    "    Fully connected block with ReLU and dropout\n",
    "    \"\"\"\n",
    "    model.add(Dense(4096, activation='relu'))\n",
    "    model.add(Dropout(0.5))\n",
    "    \n",
    "def VGG_16():\n",
    "    \"\"\"\n",
    "    Implement VGG16 architecture\n",
    "    \"\"\"\n",
    "    model = Sequential()\n",
    "    model.add(Lambda(lambda x : x, input_shape=(106,106,3), output_shape=(106,106,3)))\n",
    "    \n",
    "    ConvBlock(2, model, 64)\n",
    "    ConvBlock(2, model, 128)\n",
    "    ConvBlock(3, model, 256)\n",
    "    ConvBlock(3, model, 512)\n",
    "    ConvBlock(3, model, 512)\n",
    "\n",
    "    model.add(Flatten())\n",
    "    FCBlock(model)\n",
    "    FCBlock(model)\n",
    "    \n",
    "    model.add(Dense(3, activation = 'sigmoid'))\n",
    "    return model\n",
    "\n",
    "# Compile \n",
    "optimizer = RMSprop(learning_rate=1e-4,)#, clipvalue=1)\n",
    "model = VGG_16()\n",
    "model.compile(loss='mean_squared_error', optimizer=optimizer, metrics=['accuracy',tf.keras.metrics.RootMeanSquaredError()])"
   ]
  },
  {
   "cell_type": "code",
   "execution_count": 17,
   "id": "20482451",
   "metadata": {
    "ExecuteTime": {
     "end_time": "2023-01-28T02:30:20.059266Z",
     "start_time": "2023-01-27T20:25:47.250775Z"
    }
   },
   "outputs": [
    {
     "name": "stdout",
     "output_type": "stream",
     "text": [
      "Epoch 1/15\n",
      "86/86 [==============================] - 1595s 18s/step - loss: 0.0934 - accuracy: 0.5858 - root_mean_squared_error: 0.3056 - val_loss: 0.0836 - val_accuracy: 0.5636 - val_root_mean_squared_error: 0.2892\n",
      "Epoch 2/15\n",
      "86/86 [==============================] - 1595s 19s/step - loss: 0.0828 - accuracy: 0.5878 - root_mean_squared_error: 0.2878 - val_loss: 0.0817 - val_accuracy: 0.6541 - val_root_mean_squared_error: 0.2859\n",
      "Epoch 3/15\n",
      "86/86 [==============================] - 1594s 19s/step - loss: 0.0798 - accuracy: 0.6424 - root_mean_squared_error: 0.2825 - val_loss: 0.0785 - val_accuracy: 0.6350 - val_root_mean_squared_error: 0.2802\n",
      "Epoch 4/15\n",
      "86/86 [==============================] - 1594s 19s/step - loss: 0.0777 - accuracy: 0.6585 - root_mean_squared_error: 0.2787 - val_loss: 0.0782 - val_accuracy: 0.6168 - val_root_mean_squared_error: 0.2797\n",
      "Epoch 5/15\n",
      "86/86 [==============================] - 1591s 19s/step - loss: 0.0767 - accuracy: 0.6635 - root_mean_squared_error: 0.2769 - val_loss: 0.0755 - val_accuracy: 0.6633 - val_root_mean_squared_error: 0.2747\n",
      "Epoch 6/15\n",
      "86/86 [==============================] - 1592s 19s/step - loss: 0.0758 - accuracy: 0.6672 - root_mean_squared_error: 0.2753 - val_loss: 0.0793 - val_accuracy: 0.6611 - val_root_mean_squared_error: 0.2816\n",
      "Epoch 7/15\n",
      "86/86 [==============================] - 1404s 16s/step - loss: 0.0749 - accuracy: 0.6691 - root_mean_squared_error: 0.2737 - val_loss: 0.0760 - val_accuracy: 0.6584 - val_root_mean_squared_error: 0.2757\n",
      "Epoch 8/15\n",
      "86/86 [==============================] - 1238s 14s/step - loss: 0.0740 - accuracy: 0.6744 - root_mean_squared_error: 0.2720 - val_loss: 0.0743 - val_accuracy: 0.6633 - val_root_mean_squared_error: 0.2727\n",
      "Epoch 9/15\n",
      "86/86 [==============================] - 1242s 14s/step - loss: 0.0741 - accuracy: 0.6727 - root_mean_squared_error: 0.2721 - val_loss: 0.0759 - val_accuracy: 0.6586 - val_root_mean_squared_error: 0.2755\n",
      "Epoch 10/15\n",
      "86/86 [==============================] - 1270s 15s/step - loss: 0.0731 - accuracy: 0.6752 - root_mean_squared_error: 0.2703 - val_loss: 0.0783 - val_accuracy: 0.6617 - val_root_mean_squared_error: 0.2798\n",
      "Epoch 11/15\n",
      "86/86 [==============================] - 1688s 20s/step - loss: 0.0727 - accuracy: 0.6761 - root_mean_squared_error: 0.2696 - val_loss: 0.0785 - val_accuracy: 0.6523 - val_root_mean_squared_error: 0.2803\n",
      "Epoch 12/15\n",
      "86/86 [==============================] - 1242s 14s/step - loss: 0.0724 - accuracy: 0.6814 - root_mean_squared_error: 0.2690 - val_loss: 0.0721 - val_accuracy: 0.6674 - val_root_mean_squared_error: 0.2686\n",
      "Epoch 13/15\n",
      "86/86 [==============================] - 1238s 14s/step - loss: 0.0715 - accuracy: 0.6823 - root_mean_squared_error: 0.2673 - val_loss: 0.0734 - val_accuracy: 0.6539 - val_root_mean_squared_error: 0.2710\n",
      "Epoch 14/15\n",
      "86/86 [==============================] - 1570s 18s/step - loss: 0.0714 - accuracy: 0.6811 - root_mean_squared_error: 0.2672 - val_loss: 0.0785 - val_accuracy: 0.6590 - val_root_mean_squared_error: 0.2801\n",
      "Epoch 15/15\n",
      "86/86 [==============================] - 1419s 17s/step - loss: 0.0705 - accuracy: 0.6879 - root_mean_squared_error: 0.2655 - val_loss: 0.0763 - val_accuracy: 0.6546 - val_root_mean_squared_error: 0.2763\n"
     ]
    }
   ],
   "source": [
    "tf_history = model.fit(X_train, y_train,epochs=15,validation_split=0.15,batch_size=600,verbose=1)"
   ]
  },
  {
   "cell_type": "code",
   "execution_count": 19,
   "id": "12acef0a",
   "metadata": {
    "ExecuteTime": {
     "end_time": "2023-01-28T13:34:10.263309Z",
     "start_time": "2023-01-28T13:34:10.019667Z"
    }
   },
   "outputs": [
    {
     "data": {
      "image/png": "[encoded data removed]",
      "text/plain": [
       "<Figure size 864x576 with 1 Axes>"
      ]
     },
     "metadata": {
      "needs_background": "light"
     },
     "output_type": "display_data"
    }
   ],
   "source": [
    "plt.figure(figsize=(12,8))\n",
    "plt.plot(tf_history.epoch,tf_history.history['loss'],label='Train')\n",
    "plt.plot(tf_history.epoch,tf_history.history['val_loss'],label='Validation',linestyle='--')\n",
    "plt.xlabel(\"Epochs\")\n",
    "plt.ylabel(\"RMSE\")\n",
    "plt.legend()\n",
    "plt.show()"
   ]
  },
  {
   "cell_type": "code",
   "execution_count": 20,
   "id": "8dbdd147",
   "metadata": {
    "ExecuteTime": {
     "end_time": "2023-01-28T13:34:29.475129Z",
     "start_time": "2023-01-28T13:34:27.114124Z"
    }
   },
   "outputs": [
    {
     "name": "stdout",
     "output_type": "stream",
     "text": [
      "Keras weights file (<HDF5 file \"variables.h5\" (mode r+)>) saving:\n",
      "...layers\\conv2d\n",
      "......vars\n",
      ".........0\n",
      ".........1\n",
      "...layers\\conv2d_1\n",
      "......vars\n",
      ".........0\n",
      ".........1\n",
      "...layers\\conv2d_10\n",
      "......vars\n",
      ".........0\n",
      ".........1\n",
      "...layers\\conv2d_11\n",
      "......vars\n",
      ".........0\n",
      ".........1\n",
      "...layers\\conv2d_12\n",
      "......vars\n",
      ".........0\n",
      ".........1\n",
      "...layers\\conv2d_2\n",
      "......vars\n",
      ".........0\n",
      ".........1\n",
      "...layers\\conv2d_3\n",
      "......vars\n",
      ".........0\n",
      ".........1\n",
      "...layers\\conv2d_4\n",
      "......vars\n",
      ".........0\n",
      ".........1\n",
      "...layers\\conv2d_5\n",
      "......vars\n",
      ".........0\n",
      ".........1\n",
      "...layers\\conv2d_6\n",
      "......vars\n",
      ".........0\n",
      ".........1\n",
      "...layers\\conv2d_7\n",
      "......vars\n",
      ".........0\n",
      ".........1\n",
      "...layers\\conv2d_8\n",
      "......vars\n",
      ".........0\n",
      ".........1\n",
      "...layers\\conv2d_9\n",
      "......vars\n",
      ".........0\n",
      ".........1\n",
      "...layers\\dense\n",
      "......vars\n",
      ".........0\n",
      ".........1\n",
      "...layers\\dense_1\n",
      "......vars\n",
      ".........0\n",
      ".........1\n",
      "...layers\\dense_2\n",
      "......vars\n",
      ".........0\n",
      ".........1\n",
      "...layers\\dropout\n",
      "......vars\n",
      "...layers\\dropout_1\n",
      "......vars\n",
      "...layers\\flatten\n",
      "......vars\n",
      "...layers\\lambda\n",
      "......vars\n",
      "...layers\\max_pooling2d\n",
      "......vars\n",
      "...layers\\max_pooling2d_1\n",
      "......vars\n",
      "...layers\\max_pooling2d_2\n",
      "......vars\n",
      "...layers\\max_pooling2d_3\n",
      "......vars\n",
      "...layers\\max_pooling2d_4\n",
      "......vars\n",
      "...layers\\zero_padding2d\n",
      "......vars\n",
      "...layers\\zero_padding2d_1\n",
      "......vars\n",
      "...layers\\zero_padding2d_10\n",
      "......vars\n",
      "...layers\\zero_padding2d_11\n",
      "......vars\n",
      "...layers\\zero_padding2d_12\n",
      "......vars\n",
      "...layers\\zero_padding2d_2\n",
      "......vars\n",
      "...layers\\zero_padding2d_3\n",
      "......vars\n",
      "...layers\\zero_padding2d_4\n",
      "......vars\n",
      "...layers\\zero_padding2d_5\n",
      "......vars\n",
      "...layers\\zero_padding2d_6\n",
      "......vars\n",
      "...layers\\zero_padding2d_7\n",
      "......vars\n",
      "...layers\\zero_padding2d_8\n",
      "......vars\n",
      "...layers\\zero_padding2d_9\n",
      "......vars\n",
      "...metrics\\mean\n",
      "......vars\n",
      ".........0\n",
      ".........1\n",
      "...metrics\\mean_metric_wrapper\n",
      "......vars\n",
      ".........0\n",
      ".........1\n",
      "...metrics\\root_mean_squared_error\n",
      "......vars\n",
      ".........0\n",
      ".........1\n",
      "...vars\n",
      "Keras model archive saving:\n",
      "File Name                                             Modified             Size\n",
      "config.json                                    2023-01-28 13:34:27        13704\n",
      "metadata.json                                  2023-01-28 13:34:27           64\n",
      "variables.h5                                   2023-01-28 13:34:27    134532976\n"
     ]
    }
   ],
   "source": [
    "import pickle \n",
    "\n",
    "saving_model = 'finalised_model.sav'\n",
    "pickle.dump(model, open(saving_model, 'wb'))"
   ]
  },
  {
   "cell_type": "markdown",
   "id": "9af702cd",
   "metadata": {},
   "source": [
    "## Predicting"
   ]
  },
  {
   "cell_type": "code",
   "execution_count": null,
   "id": "8f24b54c",
   "metadata": {},
   "outputs": [],
   "source": [
    "# Load best model weights\n",
    "#from keras.models import load_model\n",
    "#model = load_model('tmp/weights.hdf5')"
   ]
  },
  {
   "cell_type": "code",
   "execution_count": 21,
   "id": "df938503",
   "metadata": {
    "ExecuteTime": {
     "end_time": "2023-01-28T13:37:18.103589Z",
     "start_time": "2023-01-28T13:34:56.423786Z"
    }
   },
   "outputs": [],
   "source": [
    "X_testing= []\n",
    "y_testing= []\n",
    "\n",
    "for f in fetcher.testing_images_paths:\n",
    "    X_test_pics = process_images([fetcher.test_path + '/' + fname for fname in [f]])\n",
    "    id_ = fetcher.get_id(f)\n",
    "    y_test_values = np.array(fetcher.find_label(id_))\n",
    "    y_test_values = np.resize(y_test_values,(3))\n",
    "    X_testing.append(X_test_pics)\n",
    "    y_testing.append(y_test_values)"
   ]
  },
  {
   "cell_type": "code",
   "execution_count": 22,
   "id": "8881f079",
   "metadata": {
    "ExecuteTime": {
     "end_time": "2023-01-28T13:39:28.644274Z",
     "start_time": "2023-01-28T13:39:19.606153Z"
    }
   },
   "outputs": [],
   "source": [
    "X_testing = np.array(X_testing).astype(np.float32)\n",
    "y_testing = np.array(y_testing).astype(np.float32)"
   ]
  },
  {
   "cell_type": "code",
   "execution_count": 23,
   "id": "a1d55d39",
   "metadata": {
    "ExecuteTime": {
     "end_time": "2023-01-28T13:39:32.893353Z",
     "start_time": "2023-01-28T13:39:32.876092Z"
    }
   },
   "outputs": [
    {
     "name": "stdout",
     "output_type": "stream",
     "text": [
      "(12013, 3)\n",
      "(12013, 1, 3, 106, 106)\n"
     ]
    }
   ],
   "source": [
    "print(y_testing.shape)\n",
    "print(X_testing.shape)"
   ]
  },
  {
   "cell_type": "code",
   "execution_count": 24,
   "id": "34dcff21",
   "metadata": {
    "ExecuteTime": {
     "end_time": "2023-01-28T13:39:42.533867Z",
     "start_time": "2023-01-28T13:39:42.518263Z"
    }
   },
   "outputs": [],
   "source": [
    "X_testing=X_testing.reshape(12013,106,106,3)"
   ]
  },
  {
   "cell_type": "code",
   "execution_count": 25,
   "id": "0b588308",
   "metadata": {
    "ExecuteTime": {
     "end_time": "2023-01-28T13:40:10.710428Z",
     "start_time": "2023-01-28T13:39:43.980152Z"
    }
   },
   "outputs": [
    {
     "name": "stdout",
     "output_type": "stream",
     "text": [
      "376/376 [==============================] - 26s 65ms/step\n"
     ]
    }
   ],
   "source": [
    "predictions = model.predict(X_testing)"
   ]
  },
  {
   "cell_type": "code",
   "execution_count": 26,
   "id": "e621401b",
   "metadata": {
    "ExecuteTime": {
     "end_time": "2023-01-28T13:40:15.979621Z",
     "start_time": "2023-01-28T13:40:15.270194Z"
    }
   },
   "outputs": [
    {
     "name": "stdout",
     "output_type": "stream",
     "text": [
      "RMSE =  0.27459997\n"
     ]
    }
   ],
   "source": [
    "from sklearn.metrics import mean_squared_error\n",
    "print('RMSE = ', np.sqrt(mean_squared_error(y_testing, predictions)))"
   ]
  },
  {
   "cell_type": "code",
   "execution_count": 41,
   "id": "ffa35b0e",
   "metadata": {
    "ExecuteTime": {
     "end_time": "2023-01-29T17:04:58.410900Z",
     "start_time": "2023-01-29T17:04:58.126834Z"
    }
   },
   "outputs": [
    {
     "data": {
      "image/png": "[encoded data removed]",
      "text/plain": [
       "<Figure size 1440x504 with 1 Axes>"
      ]
     },
     "metadata": {
      "needs_background": "light"
     },
     "output_type": "display_data"
    }
   ],
   "source": [
    "plt.figure(figsize=(20,7))\n",
    "\n",
    "\n",
    "x_ax = range(len(X_testing[:100]))\n",
    "plt.plot(x_ax, y_testing[:100,0], label=\"y1-test\", color='c', marker='o')\n",
    "plt.plot(x_ax, predictions[:100,0], label=\"y1-pred\", color='b', marker='o')\n",
    "#plt.plot(x_ax, y_testing[:100,1], label=\"y2-test\", color='m')\n",
    "#plt.plot(x_ax, predictions[:100,1], label=\"y2-pred\", color='r')\n",
    "#plt.plot(x_ax, y_testing[:100,2], label=\"y3-test\", color='m')\n",
    "#plt.plot(x_ax, predictions[:100,2], label=\"y3-pred\", color='r')\n",
    "plt.xlabel('The Record')\n",
    "plt.ylabel('The Value')\n",
    "plt.legend()\n",
    "plt.show()"
   ]
  },
  {
   "cell_type": "code",
   "execution_count": 56,
   "id": "0818b3c8",
   "metadata": {
    "ExecuteTime": {
     "end_time": "2023-01-26T17:54:37.820398Z",
     "start_time": "2023-01-26T17:54:37.776155Z"
    }
   },
   "outputs": [
    {
     "data": {
      "text/html": [
       "<div>\n",
       "<style scoped>\n",
       "    .dataframe tbody tr th:only-of-type {\n",
       "        vertical-align: middle;\n",
       "    }\n",
       "\n",
       "    .dataframe tbody tr th {\n",
       "        vertical-align: top;\n",
       "    }\n",
       "\n",
       "    .dataframe thead th {\n",
       "        text-align: right;\n",
       "    }\n",
       "</style>\n",
       "<table border=\"1\" class=\"dataframe\">\n",
       "  <thead>\n",
       "    <tr style=\"text-align: right;\">\n",
       "      <th></th>\n",
       "      <th>Predictions</th>\n",
       "      <th>True_values</th>\n",
       "    </tr>\n",
       "  </thead>\n",
       "  <tbody>\n",
       "    <tr>\n",
       "      <th>0</th>\n",
       "      <td>[0.7584406733512878, 0.19941730797290802, 0.03...</td>\n",
       "      <td>[0.34299999475479126, 0.5389999747276306, 0.05...</td>\n",
       "    </tr>\n",
       "    <tr>\n",
       "      <th>1</th>\n",
       "      <td>[0.370310515165329, 0.6068045496940613, 0.0248...</td>\n",
       "      <td>[0.5, 0.6140000224113464, 0.0010000000474974513]</td>\n",
       "    </tr>\n",
       "    <tr>\n",
       "      <th>2</th>\n",
       "      <td>[0.14197103679180145, 0.8470073938369751, 0.00...</td>\n",
       "      <td>[0.023000000044703484, 0.9739999771118164, 0.0]</td>\n",
       "    </tr>\n",
       "    <tr>\n",
       "      <th>3</th>\n",
       "      <td>[0.2952916622161865, 0.6863579750061035, 0.016...</td>\n",
       "      <td>[0.8460000157356262, 0.3779999911785126, 0.0]</td>\n",
       "    </tr>\n",
       "    <tr>\n",
       "      <th>4</th>\n",
       "      <td>[0.21545793116092682, 0.7701448202133179, 0.00...</td>\n",
       "      <td>[0.024000000208616257, 0.9639999866485596, 0.0...</td>\n",
       "    </tr>\n",
       "    <tr>\n",
       "      <th>...</th>\n",
       "      <td>...</td>\n",
       "      <td>...</td>\n",
       "    </tr>\n",
       "    <tr>\n",
       "      <th>9732</th>\n",
       "      <td>[0.27114489674568176, 0.7117834687232971, 0.01...</td>\n",
       "      <td>[0.23999999463558197, 0.859000027179718, 0.028...</td>\n",
       "    </tr>\n",
       "    <tr>\n",
       "      <th>9733</th>\n",
       "      <td>[0.1712183952331543, 0.816370964050293, 0.0012...</td>\n",
       "      <td>[0.10400000214576721, 0.9509999752044678, 0.02...</td>\n",
       "    </tr>\n",
       "    <tr>\n",
       "      <th>9734</th>\n",
       "      <td>[0.6261817216873169, 0.34251174330711365, 0.03...</td>\n",
       "      <td>[0.6000000238418579, 0.210999995470047, 0.0]</td>\n",
       "    </tr>\n",
       "    <tr>\n",
       "      <th>9735</th>\n",
       "      <td>[0.13472551107406616, 0.8545970320701599, 0.00...</td>\n",
       "      <td>[0.16500000655651093, 0.8420000076293945, 0.03...</td>\n",
       "    </tr>\n",
       "    <tr>\n",
       "      <th>9736</th>\n",
       "      <td>[0.1157846599817276, 0.8745192289352417, 0.000...</td>\n",
       "      <td>[0.0, 0.9710000157356262, 0.03200000151991844]</td>\n",
       "    </tr>\n",
       "  </tbody>\n",
       "</table>\n",
       "<p>9737 rows × 2 columns</p>\n",
       "</div>"
      ],
      "text/plain": [
       "                                            Predictions  \\\n",
       "0     [0.7584406733512878, 0.19941730797290802, 0.03...   \n",
       "1     [0.370310515165329, 0.6068045496940613, 0.0248...   \n",
       "2     [0.14197103679180145, 0.8470073938369751, 0.00...   \n",
       "3     [0.2952916622161865, 0.6863579750061035, 0.016...   \n",
       "4     [0.21545793116092682, 0.7701448202133179, 0.00...   \n",
       "...                                                 ...   \n",
       "9732  [0.27114489674568176, 0.7117834687232971, 0.01...   \n",
       "9733  [0.1712183952331543, 0.816370964050293, 0.0012...   \n",
       "9734  [0.6261817216873169, 0.34251174330711365, 0.03...   \n",
       "9735  [0.13472551107406616, 0.8545970320701599, 0.00...   \n",
       "9736  [0.1157846599817276, 0.8745192289352417, 0.000...   \n",
       "\n",
       "                                            True_values  \n",
       "0     [0.34299999475479126, 0.5389999747276306, 0.05...  \n",
       "1      [0.5, 0.6140000224113464, 0.0010000000474974513]  \n",
       "2       [0.023000000044703484, 0.9739999771118164, 0.0]  \n",
       "3         [0.8460000157356262, 0.3779999911785126, 0.0]  \n",
       "4     [0.024000000208616257, 0.9639999866485596, 0.0...  \n",
       "...                                                 ...  \n",
       "9732  [0.23999999463558197, 0.859000027179718, 0.028...  \n",
       "9733  [0.10400000214576721, 0.9509999752044678, 0.02...  \n",
       "9734       [0.6000000238418579, 0.210999995470047, 0.0]  \n",
       "9735  [0.16500000655651093, 0.8420000076293945, 0.03...  \n",
       "9736     [0.0, 0.9710000157356262, 0.03200000151991844]  \n",
       "\n",
       "[9737 rows x 2 columns]"
      ]
     },
     "execution_count": 56,
     "metadata": {},
     "output_type": "execute_result"
    }
   ],
   "source": [
    "#files_=test_generator.filenames\n",
    "#results=pd.DataFrame({\"Predictions\":predictions.tolist(),\"True_values\":y_testing.tolist()})\n",
    "#results\n",
    "#results.to_csv(\"results_80%.csv\",index=False)"
   ]
  },
  {
   "cell_type": "code",
   "execution_count": 57,
   "id": "ab7d18ad",
   "metadata": {
    "ExecuteTime": {
     "end_time": "2023-01-26T17:55:01.013491Z",
     "start_time": "2023-01-26T17:55:00.903302Z"
    }
   },
   "outputs": [],
   "source": [
    "#results.to_csv(\"results_80%.csv\",index=False)"
   ]
  },
  {
   "cell_type": "code",
   "execution_count": null,
   "id": "03379d2e",
   "metadata": {},
   "outputs": [],
   "source": []
  }
 ],
 "metadata": {
  "kernelspec": {
   "display_name": "Python 3 (ipykernel)",
   "language": "python",
   "name": "python3"
  },
  "language_info": {
   "codemirror_mode": {
    "name": "ipython",
    "version": 3
   },
   "file_extension": ".py",
   "mimetype": "text/x-python",
   "name": "python",
   "nbconvert_exporter": "python",
   "pygments_lexer": "ipython3",
   "version": "3.9.12"
  },
  "varInspector": {
   "cols": {
    "lenName": 16,
    "lenType": 16,
    "lenVar": 40
   },
   "kernels_config": {
    "python": {
     "delete_cmd_postfix": "",
     "delete_cmd_prefix": "del ",
     "library": "var_list.py",
     "varRefreshCmd": "print(var_dic_list())"
    },
    "r": {
     "delete_cmd_postfix": ") ",
     "delete_cmd_prefix": "rm(",
     "library": "var_list.r",
     "varRefreshCmd": "cat(var_dic_list()) "
    }
   },
   "types_to_exclude": [
    "module",
    "function",
    "builtin_function_or_method",
    "instance",
    "_Feature"
   ],
   "window_display": false
  }
 },
 "nbformat": 4,
 "nbformat_minor": 5
}
